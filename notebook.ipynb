{
 "cells": [
  {
   "cell_type": "markdown",
   "metadata": {},
   "source": [
    "# Deep Learning Project 2 - Group 6\n",
    "Catarina Oliveira | 20211616;\n",
    "Inês Vieira | 20211589;\n",
    "Rita Centeno | 20211579\n",
    "\n",
    "\n",
    "## **Building the Model**"
   ]
  },
  {
   "cell_type": "markdown",
   "metadata": {},
   "source": [
    "#### Table of Contents:\n",
    "1. [Library Imports](#import-libraries)\n",
    "2. [Open Data](#opening-data)\n",
    "3. [EDA](#eda)\n",
    "4. [Preprocessing](#initial-preprocessing)\n",
    "5. [Train Test Split](#train-test-split)\n",
    "6. [Oversampling](#oversampling)\n",
    "7. [Modeling](#modeling)\n",
    "8. [Model Evaluation](#model-evaluation)\n",
    "9. [Exports](#exports)"
   ]
  },
  {
   "cell_type": "markdown",
   "metadata": {},
   "source": [
    "### Importing Necessary Libraries\n",
    "<a id='import-libraries'></a>"
   ]
  },
  {
   "cell_type": "code",
   "execution_count": 60,
   "metadata": {},
   "outputs": [
    {
     "name": "stdout",
     "output_type": "stream",
     "text": [
      "The autoreload extension is already loaded. To reload it, use:\n",
      "  %reload_ext autoreload\n"
     ]
    }
   ],
   "source": [
    "# Imports\n",
    "\n",
    "# !pip install numpy\n",
    "# !pip install pandas\n",
    "# !pip install matplotlib\n",
    "# !pip install seaborn\n",
    "# !pip install tensorflow\n",
    "# !pip install pillow\n",
    "# !pip install opencv-python\n",
    "# !pip install scikit-learn\n",
    "# !pip install keras\n",
    "# !pip install imbalanced-learn\n",
    "\n",
    "\n",
    "# Importing standard libraries\n",
    "import os\n",
    "import numpy as np\n",
    "import pandas as pd\n",
    "import matplotlib.pyplot as plt\n",
    "# import seaborn as sns\n",
    "import tensorflow as tf\n",
    "\n",
    "# Importing image libraries\n",
    "from PIL import Image #, ImageEnhance\n",
    "# import cv2\n",
    "\n",
    "# Importing scikit-learn libraries\n",
    "# from sklearn.model_selection import train_test_split\n",
    "# from sklearn.preprocessing import LabelEncoder\n",
    "# from sklearn.utils.class_weight import compute_class_weight\n",
    "# from sklearn.metrics import confusion_matrix, accuracy_score, f1_score, classification_report\n",
    "\n",
    "# Importing Keras libraries and packages\n",
    "# from keras.models import Sequential\n",
    "# from keras.layers import Conv2D, MaxPooling2D, Flatten, Dense, Dropout\n",
    "# from keras.preprocessing.image import ImageDataGenerator\n",
    "# from keras.callbacks import EarlyStopping\n",
    "# from keras.callbacks import ModelCheckpoint\n",
    "# from keras.callbacks import ReduceLROnPlateau\n",
    "# from keras import regularizers\n",
    "\n",
    "# Importing imblearn libraries\n",
    "# from imblearn.over_sampling import RandomOverSampler\n",
    "\n",
    "# Import pretrained models\n",
    "# from tensorflow.keras.applications import (ResNet50, InceptionV3, DenseNet121, VGG16, Xception)\n",
    "\n",
    "# Importing model evaluation libraries\n",
    "# from tensorflow.keras.models import load_model\n",
    "\n",
    "# Import garbage collector to free up memory\n",
    "import gc\n",
    "\n",
    "# Import warnings to silence warnings\n",
    "import warnings\n",
    "warnings.filterwarnings('ignore')\n",
    "\n",
    "# Importing custom functions\n",
    "from path import path\n",
    "from utils import *\n",
    "\n",
    "%load_ext autoreload\n",
    "%autoreload 2"
   ]
  },
  {
   "cell_type": "markdown",
   "metadata": {},
   "source": [
    "### Opening Data\n",
    "<a id='opening-data'></a>"
   ]
  },
  {
   "cell_type": "markdown",
   "metadata": {},
   "source": [
    "#### Metadata"
   ]
  },
  {
   "cell_type": "code",
   "execution_count": 42,
   "metadata": {},
   "outputs": [],
   "source": [
    "metadata = pd.read_csv(path + \"DataDL\\\\metadata.csv\")"
   ]
  },
  {
   "cell_type": "code",
   "execution_count": 43,
   "metadata": {},
   "outputs": [
    {
     "data": {
      "text/html": [
       "<div>\n",
       "<style scoped>\n",
       "    .dataframe tbody tr th:only-of-type {\n",
       "        vertical-align: middle;\n",
       "    }\n",
       "\n",
       "    .dataframe tbody tr th {\n",
       "        vertical-align: top;\n",
       "    }\n",
       "\n",
       "    .dataframe thead th {\n",
       "        text-align: right;\n",
       "    }\n",
       "</style>\n",
       "<table border=\"1\" class=\"dataframe\">\n",
       "  <thead>\n",
       "    <tr style=\"text-align: right;\">\n",
       "      <th></th>\n",
       "      <th>Image ID</th>\n",
       "      <th>Label</th>\n",
       "    </tr>\n",
       "  </thead>\n",
       "  <tbody>\n",
       "    <tr>\n",
       "      <th>0</th>\n",
       "      <td>OAS1_0308_MR1_mpr-1_125.jpg</td>\n",
       "      <td>NaN</td>\n",
       "    </tr>\n",
       "    <tr>\n",
       "      <th>1</th>\n",
       "      <td>OAS1_0351_MR1_mpr-3_112.jpg</td>\n",
       "      <td>NaN</td>\n",
       "    </tr>\n",
       "    <tr>\n",
       "      <th>2</th>\n",
       "      <td>OAS1_0308_MR1_mpr-1_131.jpg</td>\n",
       "      <td>Moderate Dementia</td>\n",
       "    </tr>\n",
       "    <tr>\n",
       "      <th>3</th>\n",
       "      <td>OAS1_0351_MR1_mpr-3_106.jpg</td>\n",
       "      <td>Moderate Dementia</td>\n",
       "    </tr>\n",
       "    <tr>\n",
       "      <th>4</th>\n",
       "      <td>OAS1_0308_MR1_mpr-1_119.jpg</td>\n",
       "      <td>Moderate Dementia</td>\n",
       "    </tr>\n",
       "  </tbody>\n",
       "</table>\n",
       "</div>"
      ],
      "text/plain": [
       "                      Image ID              Label\n",
       "0  OAS1_0308_MR1_mpr-1_125.jpg                NaN\n",
       "1  OAS1_0351_MR1_mpr-3_112.jpg                NaN\n",
       "2  OAS1_0308_MR1_mpr-1_131.jpg  Moderate Dementia\n",
       "3  OAS1_0351_MR1_mpr-3_106.jpg  Moderate Dementia\n",
       "4  OAS1_0308_MR1_mpr-1_119.jpg  Moderate Dementia"
      ]
     },
     "execution_count": 43,
     "metadata": {},
     "output_type": "execute_result"
    }
   ],
   "source": [
    "metadata.head()"
   ]
  },
  {
   "cell_type": "code",
   "execution_count": 44,
   "metadata": {},
   "outputs": [
    {
     "data": {
      "text/plain": [
       "0"
      ]
     },
     "execution_count": 44,
     "metadata": {},
     "output_type": "execute_result"
    }
   ],
   "source": [
    "# Check for duplicated rows\n",
    "metadata['Image ID'].duplicated().sum()"
   ]
  },
  {
   "cell_type": "code",
   "execution_count": 45,
   "metadata": {},
   "outputs": [
    {
     "data": {
      "text/plain": [
       "Image ID    0\n",
       "Label       9\n",
       "dtype: int64"
      ]
     },
     "execution_count": 45,
     "metadata": {},
     "output_type": "execute_result"
    }
   ],
   "source": [
    "# Check for missing values\n",
    "metadata.isnull().sum()"
   ]
  },
  {
   "cell_type": "code",
   "execution_count": 46,
   "metadata": {},
   "outputs": [],
   "source": [
    "# Drop the 9 rows with missing values\n",
    "metadata.dropna(inplace=True)"
   ]
  },
  {
   "cell_type": "markdown",
   "metadata": {},
   "source": [
    "#### Images"
   ]
  },
  {
   "cell_type": "code",
   "execution_count": 47,
   "metadata": {},
   "outputs": [],
   "source": [
    "# Paths\n",
    "train_dir = path + \"DataDL\\\\train\\\\\"\n",
    "test_dir = path + \"DataDL\\\\test\\\\\""
   ]
  },
  {
   "cell_type": "code",
   "execution_count": 51,
   "metadata": {},
   "outputs": [],
   "source": [
    "# Create empty lists to store labels and the arrays of images\n",
    "labels_train = []\n",
    "images_data_train = []\n",
    "labels_test = []\n",
    "images_data_test = []\n",
    "\n",
    "# Load images and labels\n",
    "for index, row in metadata.iterrows():\n",
    "    image_name = row['Image ID']\n",
    "    label = row['Label']\n",
    "\n",
    "    # Check if the image belongs to the training set\n",
    "    if os.path.exists(os.path.join(train_dir, image_name)):\n",
    "\n",
    "        # Load image\n",
    "        image_path = os.path.join(train_dir, image_name) \n",
    "        img = cv2.imread(image_path, cv2.IMREAD_GRAYSCALE)\n",
    "\n",
    "        # Assign image to train set\n",
    "        metadata.at[index, 'train'] = 1 \n",
    "           \n",
    "        # Append image and respective label to list\n",
    "        labels_train.append(label) \n",
    "        images_data_train.append(img)\n",
    "\n",
    "    elif os.path.exists(os.path.join(test_dir, image_name)):\n",
    "\n",
    "        # Load image\n",
    "        image_path = os.path.join(test_dir, image_name)\n",
    "        img = cv2.imread(image_path, cv2.IMREAD_GRAYSCALE)\n",
    "\n",
    "        # Assign image to test set\n",
    "        metadata.at[index, 'train'] = 0\n",
    "\n",
    "        # Append image and respective label to list\n",
    "        labels_test.append(label)\n",
    "        images_data_test.append(img)\n",
    "\n",
    "    # Error message if image is not found\n",
    "    else:\n",
    "        print(f\"Image not found: {image_name}\")"
   ]
  },
  {
   "cell_type": "code",
   "execution_count": 56,
   "metadata": {},
   "outputs": [
    {
     "data": {
      "text/plain": [
       "2166"
      ]
     },
     "execution_count": 56,
     "metadata": {},
     "output_type": "execute_result"
    }
   ],
   "source": [
    "del train_dir, test_dir, image_name, label, image_path, img, index, row\n",
    "gc.collect()"
   ]
  },
  {
   "cell_type": "markdown",
   "metadata": {},
   "source": [
    "### EDA\n",
    "<a id='eda'></a>"
   ]
  },
  {
   "cell_type": "code",
   "execution_count": 65,
   "metadata": {},
   "outputs": [
    {
     "data": {
      "image/png": "[encoded data removed]",
      "text/plain": [
       "<Figure size 640x480 with 1 Axes>"
      ]
     },
     "metadata": {},
     "output_type": "display_data"
    }
   ],
   "source": [
    "# Check the target variable's distribution\n",
    "bar_chart(metadata, 'Label', 'Lesion', fontsize=9, rotation=45)"
   ]
  },
  {
   "cell_type": "markdown",
   "metadata": {},
   "source": [
    "### Initial Preprocessing\n",
    "<a id='initial-preproc'></a>"
   ]
  },
  {
   "cell_type": "code",
   "execution_count": 66,
   "metadata": {},
   "outputs": [],
   "source": [
    "# Create a column with the original index for later checks\n",
    "metadata['original_index'] = metadata.index\n",
    "\n",
    "# Divide the metadata into the train and test sets and reset respective indices\n",
    "train_metadata = metadata[metadata['train'] == 1].drop(['train'], axis=1)\n",
    "test_metadata = metadata[metadata['train'] == 0].drop(['train'], axis=1)\n",
    "\n",
    "train_metadata = train_metadata.reset_index(drop=True)\n",
    "test_metadata = test_metadata.reset_index(drop=True)\n",
    "\n",
    "# Create a column with the original train set index for later checks\n",
    "train_metadata['original_train_index'] = train_metadata.index\n",
    "test_metadata['original_test_index'] = test_metadata.index"
   ]
  },
  {
   "cell_type": "code",
   "execution_count": 67,
   "metadata": {},
   "outputs": [
    {
     "data": {
      "text/plain": [
       "13756"
      ]
     },
     "execution_count": 67,
     "metadata": {},
     "output_type": "execute_result"
    }
   ],
   "source": [
    "del metadata\n",
    "gc.collect()"
   ]
  },
  {
   "cell_type": "code",
   "execution_count": null,
   "metadata": {},
   "outputs": [],
   "source": [
    "# PREPROC BY BINGAI\n",
    "\n",
    "import numpy as np\n",
    "import cv2\n",
    "from skimage import exposure\n",
    "\n",
    "# assuming 'images' is your list of numpy arrays\n",
    "preprocessed_images = []\n",
    "\n",
    "for img in images:\n",
    "    # Inhomogeneity correction: adjust the histogram of the image\n",
    "    img_corrected = exposure.equalize_adapthist(img, clip_limit=0.03)\n",
    "    \n",
    "    # Rigid registration: for this, you need a reference image to which others will be registered\n",
    "    # Here, we'll use the first image in the list as the reference\n",
    "    reference_image = images[0]\n",
    "    \n",
    "    # Find the transformation that aligns the image with the reference\n",
    "    matrix, _ = cv2.estimateAffine2D(img_corrected, reference_image)\n",
    "    \n",
    "    # Apply the transformation\n",
    "    registered_image = cv2.warpAffine(img_corrected, matrix, (img.shape[1], img.shape[0]))\n",
    "    \n",
    "    preprocessed_images.append(registered_image)\n"
   ]
  },
  {
   "cell_type": "code",
   "execution_count": null,
   "metadata": {},
   "outputs": [],
   "source": [
    "# Extract hair, resize, normalize train and test images\n",
    "preproc_images_data_train = inicial_preproc(images_data_train)\n",
    "preproc_images_data_test = inicial_preproc(images_data_test)"
   ]
  }
 ],
 "metadata": {
  "kernelspec": {
   "display_name": "dl",
   "language": "python",
   "name": "python3"
  },
  "language_info": {
   "codemirror_mode": {
    "name": "ipython",
    "version": 3
   },
   "file_extension": ".py",
   "mimetype": "text/x-python",
   "name": "python",
   "nbconvert_exporter": "python",
   "pygments_lexer": "ipython3",
   "version": "3.9.18"
  }
 },
 "nbformat": 4,
 "nbformat_minor": 2
}
