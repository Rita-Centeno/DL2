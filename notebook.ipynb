{
 "cells": [
  {
   "cell_type": "markdown",
   "metadata": {},
   "source": [
    "# Deep Learning Project 2 - Group 6\n",
    "Catarina Oliveira | 20211616;\n",
    "Inês Vieira | 20211589;\n",
    "Rita Centeno | 20211579\n",
    "\n",
    "\n",
    "## **Building the Model**"
   ]
  },
  {
   "cell_type": "markdown",
   "metadata": {},
   "source": [
    "#### Table of Contents:\n",
    "1. [Library Imports](#import-libraries)\n",
    "2. [Open Data](#opening-data)\n",
    "3. [EDA](#eda)\n",
    "4. [Preprocessing](#initial-preprocessing)\n",
    "5. [Train Test Split](#train-test-split)\n",
    "6. [Oversampling](#oversampling)\n",
    "7. [Modeling](#modeling)\n",
    "8. [Model Evaluation](#model-evaluation)\n",
    "9. [Exports](#exports)"
   ]
  },
  {
   "cell_type": "markdown",
   "metadata": {},
   "source": [
    "### Importing Necessary Libraries\n",
    "<a id='import-libraries'></a>"
   ]
  },
  {
   "cell_type": "code",
   "execution_count": 1,
   "metadata": {},
   "outputs": [],
   "source": [
    "# Imports\n",
    "\n",
    "# !pip install numpy\n",
    "# !pip install pandas\n",
    "# !pip install matplotlib\n",
    "# !pip install seaborn\n",
    "# !pip install tensorflow\n",
    "# !pip install pillow\n",
    "# !pip install opencv-python\n",
    "# !pip install scikit-learn\n",
    "# !pip install keras\n",
    "# !pip install imbalanced-learn\n",
    "# !pip install opencv-contrib-python\n",
    "\n",
    "\n",
    "\n",
    "# Importing standard libraries\n",
    "import os\n",
    "import numpy as np\n",
    "import pandas as pd\n",
    "import matplotlib.pyplot as plt\n",
    "# import seaborn as sns\n",
    "import tensorflow as tf\n",
    "\n",
    "# Importing image libraries\n",
    "from PIL import Image #, ImageEnhance\n",
    "import cv2\n",
    "# from cv2 import dnn_superres\n",
    "# Importing scikit-learn libraries\n",
    "\n",
    "from sklearn.model_selection import train_test_split\n",
    "from sklearn.preprocessing import LabelEncoder\n",
    "# from sklearn.utils.class_weight import compute_class_weight\n",
    "# from sklearn.metrics import confusion_matrix, accuracy_score, f1_score, classification_report\n",
    "\n",
    "# Importing Keras libraries and packages\n",
    "# from keras.models import Sequential\n",
    "# from keras.layers import Conv2D, MaxPooling2D, Flatten, Dense, Dropout\n",
    "# from keras.preprocessing.image import ImageDataGenerator\n",
    "# from keras.callbacks import EarlyStopping\n",
    "# from keras.callbacks import ModelCheckpoint\n",
    "# from keras.callbacks import ReduceLROnPlateau\n",
    "# from keras import regularizers\n",
    "\n",
    "# Importing imblearn libraries\n",
    "from imblearn.over_sampling import RandomOverSampler\n",
    "from imblearn.under_sampling import RandomUnderSampler\n",
    "from imblearn.pipeline import Pipeline\n",
    "\n",
    "# Import pretrained models\n",
    "# from tensorflow.keras.applications import (ResNet50, InceptionV3, DenseNet121, VGG16, Xception)\n",
    "\n",
    "# Importing model evaluation libraries\n",
    "# from tensorflow.keras.models import load_model\n",
    "\n",
    "# Import garbage collector to free up memory\n",
    "import gc\n",
    "\n",
    "# Import warnings to silence warnings\n",
    "import warnings\n",
    "warnings.filterwarnings('ignore')\n",
    "\n",
    "# Importing custom functions\n",
    "from path import path\n",
    "from utils import *\n",
    "\n",
    "%load_ext autoreload\n",
    "%autoreload 2"
   ]
  },
  {
   "cell_type": "markdown",
   "metadata": {},
   "source": [
    "### Opening Data\n",
    "<a id='opening-data'></a>"
   ]
  },
  {
   "cell_type": "markdown",
   "metadata": {},
   "source": [
    "#### Metadata"
   ]
  },
  {
   "cell_type": "code",
   "execution_count": 2,
   "metadata": {},
   "outputs": [],
   "source": [
    "metadata = pd.read_csv(path + \"DataDL\\\\metadata.csv\")"
   ]
  },
  {
   "cell_type": "code",
   "execution_count": 3,
   "metadata": {},
   "outputs": [
    {
     "data": {
      "text/html": [
       "<div>\n",
       "<style scoped>\n",
       "    .dataframe tbody tr th:only-of-type {\n",
       "        vertical-align: middle;\n",
       "    }\n",
       "\n",
       "    .dataframe tbody tr th {\n",
       "        vertical-align: top;\n",
       "    }\n",
       "\n",
       "    .dataframe thead th {\n",
       "        text-align: right;\n",
       "    }\n",
       "</style>\n",
       "<table border=\"1\" class=\"dataframe\">\n",
       "  <thead>\n",
       "    <tr style=\"text-align: right;\">\n",
       "      <th></th>\n",
       "      <th>Image ID</th>\n",
       "      <th>Label</th>\n",
       "    </tr>\n",
       "  </thead>\n",
       "  <tbody>\n",
       "    <tr>\n",
       "      <th>0</th>\n",
       "      <td>OAS1_0308_MR1_mpr-1_125.jpg</td>\n",
       "      <td>NaN</td>\n",
       "    </tr>\n",
       "    <tr>\n",
       "      <th>1</th>\n",
       "      <td>OAS1_0351_MR1_mpr-3_112.jpg</td>\n",
       "      <td>NaN</td>\n",
       "    </tr>\n",
       "    <tr>\n",
       "      <th>2</th>\n",
       "      <td>OAS1_0308_MR1_mpr-1_131.jpg</td>\n",
       "      <td>Moderate Dementia</td>\n",
       "    </tr>\n",
       "    <tr>\n",
       "      <th>3</th>\n",
       "      <td>OAS1_0351_MR1_mpr-3_106.jpg</td>\n",
       "      <td>Moderate Dementia</td>\n",
       "    </tr>\n",
       "    <tr>\n",
       "      <th>4</th>\n",
       "      <td>OAS1_0308_MR1_mpr-1_119.jpg</td>\n",
       "      <td>Moderate Dementia</td>\n",
       "    </tr>\n",
       "  </tbody>\n",
       "</table>\n",
       "</div>"
      ],
      "text/plain": [
       "                      Image ID              Label\n",
       "0  OAS1_0308_MR1_mpr-1_125.jpg                NaN\n",
       "1  OAS1_0351_MR1_mpr-3_112.jpg                NaN\n",
       "2  OAS1_0308_MR1_mpr-1_131.jpg  Moderate Dementia\n",
       "3  OAS1_0351_MR1_mpr-3_106.jpg  Moderate Dementia\n",
       "4  OAS1_0308_MR1_mpr-1_119.jpg  Moderate Dementia"
      ]
     },
     "execution_count": 3,
     "metadata": {},
     "output_type": "execute_result"
    }
   ],
   "source": [
    "metadata.head()"
   ]
  },
  {
   "cell_type": "code",
   "execution_count": 4,
   "metadata": {},
   "outputs": [
    {
     "data": {
      "text/plain": [
       "0"
      ]
     },
     "execution_count": 4,
     "metadata": {},
     "output_type": "execute_result"
    }
   ],
   "source": [
    "# Check for duplicated rows\n",
    "metadata['Image ID'].duplicated().sum()"
   ]
  },
  {
   "cell_type": "code",
   "execution_count": 5,
   "metadata": {},
   "outputs": [
    {
     "data": {
      "text/plain": [
       "Image ID    0\n",
       "Label       9\n",
       "dtype: int64"
      ]
     },
     "execution_count": 5,
     "metadata": {},
     "output_type": "execute_result"
    }
   ],
   "source": [
    "# Check for missing values\n",
    "metadata.isnull().sum()"
   ]
  },
  {
   "cell_type": "code",
   "execution_count": 6,
   "metadata": {},
   "outputs": [],
   "source": [
    "# Drop the 9 rows with missing values\n",
    "metadata.dropna(inplace=True)"
   ]
  },
  {
   "cell_type": "markdown",
   "metadata": {},
   "source": [
    "#### Images"
   ]
  },
  {
   "cell_type": "code",
   "execution_count": 7,
   "metadata": {},
   "outputs": [],
   "source": [
    "# Paths\n",
    "train_dir = path + \"DataDL\\\\train\\\\\"\n",
    "test_dir = path + \"DataDL\\\\test\\\\\""
   ]
  },
  {
   "cell_type": "code",
   "execution_count": 8,
   "metadata": {},
   "outputs": [],
   "source": [
    "# Create empty lists to store labels and the arrays of images\n",
    "labels_train = []\n",
    "images_train = []\n",
    "labels_test = []\n",
    "images_test = []\n",
    "\n",
    "# Load images and labels\n",
    "for index, row in metadata.iterrows():\n",
    "    image_name = row['Image ID']\n",
    "    label = row['Label']\n",
    "\n",
    "    # Check if the image belongs to the training set\n",
    "    if os.path.exists(os.path.join(train_dir, image_name)):\n",
    "\n",
    "        # Load image\n",
    "        image_path = os.path.join(train_dir, image_name) \n",
    "        img = cv2.imread(image_path, cv2.IMREAD_GRAYSCALE)\n",
    "\n",
    "        # Assign image to train set\n",
    "        metadata.at[index, 'train'] = 1 \n",
    "           \n",
    "        # Append image and respective label to list\n",
    "        labels_train.append(label) \n",
    "        images_train.append(img)\n",
    "\n",
    "    elif os.path.exists(os.path.join(test_dir, image_name)):\n",
    "\n",
    "        # Load image\n",
    "        image_path = os.path.join(test_dir, image_name)\n",
    "        img = cv2.imread(image_path, cv2.IMREAD_GRAYSCALE)\n",
    "\n",
    "        # Assign image to test set\n",
    "        metadata.at[index, 'train'] = 0\n",
    "\n",
    "        # Append image and respective label to list\n",
    "        labels_test.append(label)\n",
    "        images_test.append(img)\n",
    "\n",
    "    # Error message if image is not found\n",
    "    else:\n",
    "        print(f\"Image not found: {image_name}\")"
   ]
  },
  {
   "cell_type": "code",
   "execution_count": 9,
   "metadata": {},
   "outputs": [
    {
     "data": {
      "text/plain": [
       "57"
      ]
     },
     "execution_count": 9,
     "metadata": {},
     "output_type": "execute_result"
    }
   ],
   "source": [
    "del train_dir, test_dir, image_name, label, image_path, img, index, row\n",
    "gc.collect()"
   ]
  },
  {
   "cell_type": "markdown",
   "metadata": {},
   "source": [
    "### EDA\n",
    "<a id='eda'></a>"
   ]
  },
  {
   "cell_type": "code",
   "execution_count": 10,
   "metadata": {},
   "outputs": [
    {
     "data": {
      "image/png": "[encoded data removed]",
      "text/plain": [
       "<Figure size 640x480 with 1 Axes>"
      ]
     },
     "metadata": {},
     "output_type": "display_data"
    }
   ],
   "source": [
    "# Check the target variable's distribution\n",
    "bar_chart(metadata, 'Label', 'Lesion', fontsize=9, rotation=45)"
   ]
  },
  {
   "cell_type": "code",
   "execution_count": 11,
   "metadata": {},
   "outputs": [
    {
     "name": "stdout",
     "output_type": "stream",
     "text": [
      "All images have the same shape. \n",
      "Shape: (248, 496)\n"
     ]
    }
   ],
   "source": [
    "all_images = images_train + images_test\n",
    "# Assuming 'images' is your list of numpy arrays\n",
    "first_image_shape = all_images[0].shape\n",
    "\n",
    "# Check if all images have the same shape as the first image\n",
    "for img in all_images[1:]:\n",
    "    if img.shape != first_image_shape:\n",
    "        print(\"Images do not have the same shape.\")\n",
    "        break\n",
    "else:\n",
    "    print(f\"All images have the same shape. \\nShape: {first_image_shape}\")"
   ]
  },
  {
   "cell_type": "markdown",
   "metadata": {},
   "source": [
    "### Initial Preprocessing\n",
    "<a id='initial-preproc'></a>"
   ]
  },
  {
   "cell_type": "markdown",
   "metadata": {},
   "source": [
    "Keep track of original indexes"
   ]
  },
  {
   "cell_type": "code",
   "execution_count": 12,
   "metadata": {},
   "outputs": [],
   "source": [
    "# Create a column with the original index for later checks\n",
    "metadata['original_index'] = metadata.index\n",
    "\n",
    "# Divide the metadata into the train and test sets and reset respective indices\n",
    "metadata_train = metadata[metadata['train'] == 1].drop(['train'], axis=1)\n",
    "metadata_test = metadata[metadata['train'] == 0].drop(['train'], axis=1)\n",
    "\n",
    "metadata_train = metadata_train.reset_index(drop=True)\n",
    "metadata_test = metadata_test.reset_index(drop=True)\n",
    "\n",
    "# Create a column with the original train set index for later checks\n",
    "metadata_train['original_train_index'] = metadata_train.index\n",
    "metadata_test['original_test_index'] = metadata_test.index"
   ]
  },
  {
   "cell_type": "code",
   "execution_count": 13,
   "metadata": {},
   "outputs": [
    {
     "data": {
      "text/plain": [
       "3464"
      ]
     },
     "execution_count": 13,
     "metadata": {},
     "output_type": "execute_result"
    }
   ],
   "source": [
    "del metadata\n",
    "gc.collect()"
   ]
  },
  {
   "cell_type": "markdown",
   "metadata": {},
   "source": [
    "Encode labels"
   ]
  },
  {
   "cell_type": "code",
   "execution_count": 14,
   "metadata": {},
   "outputs": [
    {
     "name": "stdout",
     "output_type": "stream",
     "text": [
      "0: Mild Dementia, 1: Moderate Dementia, 2: Non Demented, 3: Very mild Dementia\n"
     ]
    }
   ],
   "source": [
    "# Converting labels to numpy arrays\n",
    "labels_train = np.array(labels_train)\n",
    "labels_test = np.array(labels_test)\n",
    "\n",
    "# Defining the encoder\n",
    "labelEncoder = LabelEncoder()\n",
    "\n",
    "# Tranform train and test labels into numerical data\n",
    "labels_train = labelEncoder.fit_transform(labels_train)\n",
    "labels_test = labelEncoder.transform(labels_test)\n",
    "\n",
    "# Check the encoding correspondance\n",
    "label_mapping = {i: label for i, label in enumerate(labelEncoder.classes_)}\n",
    "print(', '.join(f'{encoded}: {original}' for encoded, original in label_mapping.items()))"
   ]
  },
  {
   "cell_type": "markdown",
   "metadata": {},
   "source": [
    "Undersampling for computational reasons"
   ]
  },
  {
   "cell_type": "code",
   "execution_count": 15,
   "metadata": {},
   "outputs": [],
   "source": [
    "sampling_strategy = {\n",
    "    'Very mild Dementia': 3500,\n",
    "    'Non Demented': 3500,\n",
    "    # 'Mild Dementia': 2500\n",
    "}\n",
    "\n",
    "undersample = RandomUnderSampler(sampling_strategy=sampling_strategy, random_state=46)\n",
    "metadata_train_under, y_under = undersample.fit_resample(metadata_train, metadata_train['Label'])\n"
   ]
  },
  {
   "cell_type": "code",
   "execution_count": 16,
   "metadata": {},
   "outputs": [
    {
     "data": {
      "text/plain": [
       "0"
      ]
     },
     "execution_count": 16,
     "metadata": {},
     "output_type": "execute_result"
    }
   ],
   "source": [
    "del undersample, sampling_strategy\n",
    "gc.collect()"
   ]
  },
  {
   "cell_type": "code",
   "execution_count": 17,
   "metadata": {},
   "outputs": [],
   "source": [
    "# Create the oversampled lists of images and labels and store them as numpy arrays\n",
    "images_train_under = np.array([images_train[i] for i in metadata_train_under['original_train_index']])\n",
    "labels_train_under = np.array([labels_train[i] for i in metadata_train_under['original_train_index']])\n",
    "\n",
    "# Drop the new index column as it's no longer needed\n",
    "# metadata_train_under = metadata_train_under.drop(['original_train_index'], axis=1)\n",
    "\n",
    "# Reset the undersampled metadata index\n",
    "metadata_train_under.reset_index(drop=True, inplace=True)"
   ]
  },
  {
   "cell_type": "code",
   "execution_count": 18,
   "metadata": {},
   "outputs": [],
   "source": [
    "del images_train, labels_train, metadata_train"
   ]
  },
  {
   "cell_type": "code",
   "execution_count": 19,
   "metadata": {},
   "outputs": [],
   "source": [
    "# Extract hair, resize, normalize train and test images\n",
    "preproc_images_train = inicial_preproc(images_train_under)\n",
    "# preproc_images_test = inicial_preproc(images_test)"
   ]
  },
  {
   "cell_type": "code",
   "execution_count": null,
   "metadata": {},
   "outputs": [],
   "source": [
    "# del images_data_test\n",
    "# gc.collect()"
   ]
  },
  {
   "cell_type": "markdown",
   "metadata": {},
   "source": [
    "### Train Test Split\n",
    "<a id='train-test-split'></a>"
   ]
  },
  {
   "cell_type": "code",
   "execution_count": 22,
   "metadata": {},
   "outputs": [],
   "source": [
    "# Train test split\n",
    "X_train, X_val, y_train, y_val, metadata_train, metadata_val = train_test_split(\n",
    "    preproc_images_train, \n",
    "    labels_train_under, \n",
    "    metadata_train_under, \n",
    "    train_size=0.8, \n",
    "    test_size=0.2, \n",
    "    random_state=46, \n",
    "    stratify=labels_train_under, \n",
    "    shuffle=True\n",
    ")"
   ]
  },
  {
   "cell_type": "markdown",
   "metadata": {},
   "source": [
    "### Oversampling\n",
    "<a id='oversampling'></a>"
   ]
  },
  {
   "cell_type": "code",
   "execution_count": 23,
   "metadata": {},
   "outputs": [
    {
     "data": {
      "text/html": [
       "<div>\n",
       "<style scoped>\n",
       "    .dataframe tbody tr th:only-of-type {\n",
       "        vertical-align: middle;\n",
       "    }\n",
       "\n",
       "    .dataframe tbody tr th {\n",
       "        vertical-align: top;\n",
       "    }\n",
       "\n",
       "    .dataframe thead th {\n",
       "        text-align: right;\n",
       "    }\n",
       "</style>\n",
       "<table border=\"1\" class=\"dataframe\">\n",
       "  <thead>\n",
       "    <tr style=\"text-align: right;\">\n",
       "      <th></th>\n",
       "      <th>Image ID</th>\n",
       "      <th>Label</th>\n",
       "      <th>original_index</th>\n",
       "      <th>original_train_index</th>\n",
       "    </tr>\n",
       "  </thead>\n",
       "  <tbody>\n",
       "    <tr>\n",
       "      <th>9195</th>\n",
       "      <td>OAS1_0179_MR1_mpr-3_109.jpg</td>\n",
       "      <td>Very mild Dementia</td>\n",
       "      <td>80518</td>\n",
       "      <td>64420</td>\n",
       "    </tr>\n",
       "    <tr>\n",
       "      <th>362</th>\n",
       "      <td>OAS1_0316_MR1_mpr-2_134.jpg</td>\n",
       "      <td>Mild Dementia</td>\n",
       "      <td>81769</td>\n",
       "      <td>65423</td>\n",
       "    </tr>\n",
       "    <tr>\n",
       "      <th>406</th>\n",
       "      <td>OAS1_0053_MR1_mpr-3_160.jpg</td>\n",
       "      <td>Mild Dementia</td>\n",
       "      <td>81819</td>\n",
       "      <td>65467</td>\n",
       "    </tr>\n",
       "    <tr>\n",
       "      <th>3082</th>\n",
       "      <td>OAS1_0348_MR1_mpr-4_102.jpg</td>\n",
       "      <td>Non Demented</td>\n",
       "      <td>50593</td>\n",
       "      <td>40384</td>\n",
       "    </tr>\n",
       "    <tr>\n",
       "      <th>4489</th>\n",
       "      <td>OAS1_0103_MR1_mpr-4_140.jpg</td>\n",
       "      <td>Non Demented</td>\n",
       "      <td>16132</td>\n",
       "      <td>12867</td>\n",
       "    </tr>\n",
       "    <tr>\n",
       "      <th>...</th>\n",
       "      <td>...</td>\n",
       "      <td>...</td>\n",
       "      <td>...</td>\n",
       "      <td>...</td>\n",
       "    </tr>\n",
       "    <tr>\n",
       "      <th>3093</th>\n",
       "      <td>OAS1_0176_MR1_mpr-2_110.jpg</td>\n",
       "      <td>Non Demented</td>\n",
       "      <td>49655</td>\n",
       "      <td>39654</td>\n",
       "    </tr>\n",
       "    <tr>\n",
       "      <th>6294</th>\n",
       "      <td>OAS1_0243_MR1_mpr-4_154.jpg</td>\n",
       "      <td>Very mild Dementia</td>\n",
       "      <td>74613</td>\n",
       "      <td>59711</td>\n",
       "    </tr>\n",
       "    <tr>\n",
       "      <th>7007</th>\n",
       "      <td>OAS1_0243_MR1_mpr-1_159.jpg</td>\n",
       "      <td>Very mild Dementia</td>\n",
       "      <td>74895</td>\n",
       "      <td>59938</td>\n",
       "    </tr>\n",
       "    <tr>\n",
       "      <th>4446</th>\n",
       "      <td>OAS1_0359_MR1_mpr-4_118.jpg</td>\n",
       "      <td>Non Demented</td>\n",
       "      <td>40741</td>\n",
       "      <td>32494</td>\n",
       "    </tr>\n",
       "    <tr>\n",
       "      <th>7041</th>\n",
       "      <td>OAS1_0312_MR1_mpr-2_148.jpg</td>\n",
       "      <td>Very mild Dementia</td>\n",
       "      <td>74841</td>\n",
       "      <td>59892</td>\n",
       "    </tr>\n",
       "  </tbody>\n",
       "</table>\n",
       "<p>7768 rows × 4 columns</p>\n",
       "</div>"
      ],
      "text/plain": [
       "                         Image ID               Label  original_index  \\\n",
       "9195  OAS1_0179_MR1_mpr-3_109.jpg  Very mild Dementia           80518   \n",
       "362   OAS1_0316_MR1_mpr-2_134.jpg       Mild Dementia           81769   \n",
       "406   OAS1_0053_MR1_mpr-3_160.jpg       Mild Dementia           81819   \n",
       "3082  OAS1_0348_MR1_mpr-4_102.jpg        Non Demented           50593   \n",
       "4489  OAS1_0103_MR1_mpr-4_140.jpg        Non Demented           16132   \n",
       "...                           ...                 ...             ...   \n",
       "3093  OAS1_0176_MR1_mpr-2_110.jpg        Non Demented           49655   \n",
       "6294  OAS1_0243_MR1_mpr-4_154.jpg  Very mild Dementia           74613   \n",
       "7007  OAS1_0243_MR1_mpr-1_159.jpg  Very mild Dementia           74895   \n",
       "4446  OAS1_0359_MR1_mpr-4_118.jpg        Non Demented           40741   \n",
       "7041  OAS1_0312_MR1_mpr-2_148.jpg  Very mild Dementia           74841   \n",
       "\n",
       "      original_train_index  \n",
       "9195                 64420  \n",
       "362                  65423  \n",
       "406                  65467  \n",
       "3082                 40384  \n",
       "4489                 12867  \n",
       "...                    ...  \n",
       "3093                 39654  \n",
       "6294                 59711  \n",
       "7007                 59938  \n",
       "4446                 32494  \n",
       "7041                 59892  \n",
       "\n",
       "[7768 rows x 4 columns]"
      ]
     },
     "execution_count": 23,
     "metadata": {},
     "output_type": "execute_result"
    }
   ],
   "source": [
    "metadata_train"
   ]
  },
  {
   "cell_type": "code",
   "execution_count": 24,
   "metadata": {},
   "outputs": [],
   "source": [
    "# Creating a column with the current index to later make the oversampling image associations easier\n",
    "metadata_train['new_index'] = range(len(metadata_train))"
   ]
  },
  {
   "cell_type": "code",
   "execution_count": 26,
   "metadata": {},
   "outputs": [],
   "source": [
    "# Define the oversampling strategy\n",
    "# - dont oversample the majority class\n",
    "# - oversample the minority classes to half of the majority class\n",
    "\n",
    "sampling_strategy = {\n",
    "    'Mild Dementia': 3500,\n",
    "    'Moderate Dementia': 3500,\n",
    "    # 'Non Demented': 3500,\n",
    "    # 'Very mild Dementia': 3500\n",
    "}\n",
    "\n",
    "# Oversample the train set\n",
    "oversample = RandomOverSampler(sampling_strategy=sampling_strategy, random_state=46)\n",
    "metadata_train_over, y_over = oversample.fit_resample(metadata_train, metadata_train['Label'])\n"
   ]
  },
  {
   "cell_type": "code",
   "execution_count": 27,
   "metadata": {},
   "outputs": [
    {
     "data": {
      "text/html": [
       "<div>\n",
       "<style scoped>\n",
       "    .dataframe tbody tr th:only-of-type {\n",
       "        vertical-align: middle;\n",
       "    }\n",
       "\n",
       "    .dataframe tbody tr th {\n",
       "        vertical-align: top;\n",
       "    }\n",
       "\n",
       "    .dataframe thead th {\n",
       "        text-align: right;\n",
       "    }\n",
       "</style>\n",
       "<table border=\"1\" class=\"dataframe\">\n",
       "  <thead>\n",
       "    <tr style=\"text-align: right;\">\n",
       "      <th></th>\n",
       "      <th>Image ID</th>\n",
       "      <th>Label</th>\n",
       "      <th>original_index</th>\n",
       "      <th>original_train_index</th>\n",
       "      <th>new_index</th>\n",
       "    </tr>\n",
       "  </thead>\n",
       "  <tbody>\n",
       "    <tr>\n",
       "      <th>0</th>\n",
       "      <td>OAS1_0179_MR1_mpr-3_109.jpg</td>\n",
       "      <td>Very mild Dementia</td>\n",
       "      <td>80518</td>\n",
       "      <td>64420</td>\n",
       "      <td>0</td>\n",
       "    </tr>\n",
       "    <tr>\n",
       "      <th>1</th>\n",
       "      <td>OAS1_0316_MR1_mpr-2_134.jpg</td>\n",
       "      <td>Mild Dementia</td>\n",
       "      <td>81769</td>\n",
       "      <td>65423</td>\n",
       "      <td>1</td>\n",
       "    </tr>\n",
       "    <tr>\n",
       "      <th>2</th>\n",
       "      <td>OAS1_0053_MR1_mpr-3_160.jpg</td>\n",
       "      <td>Mild Dementia</td>\n",
       "      <td>81819</td>\n",
       "      <td>65467</td>\n",
       "      <td>2</td>\n",
       "    </tr>\n",
       "    <tr>\n",
       "      <th>3</th>\n",
       "      <td>OAS1_0348_MR1_mpr-4_102.jpg</td>\n",
       "      <td>Non Demented</td>\n",
       "      <td>50593</td>\n",
       "      <td>40384</td>\n",
       "      <td>3</td>\n",
       "    </tr>\n",
       "    <tr>\n",
       "      <th>4</th>\n",
       "      <td>OAS1_0103_MR1_mpr-4_140.jpg</td>\n",
       "      <td>Non Demented</td>\n",
       "      <td>16132</td>\n",
       "      <td>12867</td>\n",
       "      <td>4</td>\n",
       "    </tr>\n",
       "    <tr>\n",
       "      <th>...</th>\n",
       "      <td>...</td>\n",
       "      <td>...</td>\n",
       "      <td>...</td>\n",
       "      <td>...</td>\n",
       "      <td>...</td>\n",
       "    </tr>\n",
       "    <tr>\n",
       "      <th>12595</th>\n",
       "      <td>OAS1_0308_MR1_mpr-1_106.jpg</td>\n",
       "      <td>Moderate Dementia</td>\n",
       "      <td>342</td>\n",
       "      <td>272</td>\n",
       "      <td>3234</td>\n",
       "    </tr>\n",
       "    <tr>\n",
       "      <th>12596</th>\n",
       "      <td>OAS1_0351_MR1_mpr-3_116.jpg</td>\n",
       "      <td>Moderate Dementia</td>\n",
       "      <td>103</td>\n",
       "      <td>81</td>\n",
       "      <td>4204</td>\n",
       "    </tr>\n",
       "    <tr>\n",
       "      <th>12597</th>\n",
       "      <td>OAS1_0351_MR1_mpr-3_116.jpg</td>\n",
       "      <td>Moderate Dementia</td>\n",
       "      <td>103</td>\n",
       "      <td>81</td>\n",
       "      <td>4204</td>\n",
       "    </tr>\n",
       "    <tr>\n",
       "      <th>12598</th>\n",
       "      <td>OAS1_0308_MR1_mpr-1_134.jpg</td>\n",
       "      <td>Moderate Dementia</td>\n",
       "      <td>79</td>\n",
       "      <td>63</td>\n",
       "      <td>3399</td>\n",
       "    </tr>\n",
       "    <tr>\n",
       "      <th>12599</th>\n",
       "      <td>OAS1_0308_MR1_mpr-1_159.jpg</td>\n",
       "      <td>Moderate Dementia</td>\n",
       "      <td>247</td>\n",
       "      <td>199</td>\n",
       "      <td>7016</td>\n",
       "    </tr>\n",
       "  </tbody>\n",
       "</table>\n",
       "<p>12600 rows × 5 columns</p>\n",
       "</div>"
      ],
      "text/plain": [
       "                          Image ID               Label  original_index  \\\n",
       "0      OAS1_0179_MR1_mpr-3_109.jpg  Very mild Dementia           80518   \n",
       "1      OAS1_0316_MR1_mpr-2_134.jpg       Mild Dementia           81769   \n",
       "2      OAS1_0053_MR1_mpr-3_160.jpg       Mild Dementia           81819   \n",
       "3      OAS1_0348_MR1_mpr-4_102.jpg        Non Demented           50593   \n",
       "4      OAS1_0103_MR1_mpr-4_140.jpg        Non Demented           16132   \n",
       "...                            ...                 ...             ...   \n",
       "12595  OAS1_0308_MR1_mpr-1_106.jpg   Moderate Dementia             342   \n",
       "12596  OAS1_0351_MR1_mpr-3_116.jpg   Moderate Dementia             103   \n",
       "12597  OAS1_0351_MR1_mpr-3_116.jpg   Moderate Dementia             103   \n",
       "12598  OAS1_0308_MR1_mpr-1_134.jpg   Moderate Dementia              79   \n",
       "12599  OAS1_0308_MR1_mpr-1_159.jpg   Moderate Dementia             247   \n",
       "\n",
       "       original_train_index  new_index  \n",
       "0                     64420          0  \n",
       "1                     65423          1  \n",
       "2                     65467          2  \n",
       "3                     40384          3  \n",
       "4                     12867          4  \n",
       "...                     ...        ...  \n",
       "12595                   272       3234  \n",
       "12596                    81       4204  \n",
       "12597                    81       4204  \n",
       "12598                    63       3399  \n",
       "12599                   199       7016  \n",
       "\n",
       "[12600 rows x 5 columns]"
      ]
     },
     "execution_count": 27,
     "metadata": {},
     "output_type": "execute_result"
    }
   ],
   "source": [
    "metadata_train_over"
   ]
  },
  {
   "cell_type": "markdown",
   "metadata": {},
   "source": [
    "# TENTATIVAS PREPROC"
   ]
  },
  {
   "cell_type": "code",
   "execution_count": null,
   "metadata": {},
   "outputs": [],
   "source": [
    "# PREPROC BY BINGAI\n",
    "\n",
    "# import numpy as np\n",
    "import cv2\n",
    "\n",
    "# assuming 'images' is your list of numpy arrays\n",
    "preprocessed_images = []\n",
    "# reference_image = images[0]\n",
    "\n",
    "for img in images_train:\n",
    "    # Inhomogeneity correction: adjust the histogram of the image\n",
    "    img_corrected = exposure.equalize_adapthist(img, clip_limit=0.03)\n",
    "    \n",
    "    # Rigid registration: for this, you need a reference image to which others will be registered\n",
    "    # Here, we'll use the first image in the list as the reference\n",
    "    reference_image = images_train[0]\n",
    "    \n",
    "    # Find the transformation that aligns the image with the reference\n",
    "    matrix, _ = cv2.estimateAffine2D(img_corrected, reference_image)\n",
    "    \n",
    "    # Apply the transformation\n",
    "    registered_image = cv2.warpAffine(img_corrected, matrix, (img.shape[1], img.shape[0]))\n",
    "    \n",
    "    preprocessed_images.append(img_corrected)\n"
   ]
  },
  {
   "cell_type": "code",
   "execution_count": 20,
   "metadata": {},
   "outputs": [
    {
     "data": {
      "text/plain": [
       "<matplotlib.image.AxesImage at 0x1d0295b9580>"
      ]
     },
     "execution_count": 20,
     "metadata": {},
     "output_type": "execute_result"
    },
    {
     "data": {
      "image/png": "[encoded data removed]",
      "text/plain": [
       "<Figure size 640x480 with 1 Axes>"
      ]
     },
     "metadata": {},
     "output_type": "display_data"
    }
   ],
   "source": [
    "img = preproc_images_train[0]\n",
    "plt.imshow(img)"
   ]
  },
  {
   "cell_type": "code",
   "execution_count": null,
   "metadata": {},
   "outputs": [],
   "source": [
    "img = cv2.imread('mri.jpg')\n",
    "img_resized = cv2.resize(img, (100, 50))\n",
    "plt.imshow(img_resized)"
   ]
  },
  {
   "cell_type": "code",
   "execution_count": null,
   "metadata": {},
   "outputs": [],
   "source": [
    "image = cv2.imread('mri.jpg')\n",
    "plt.imshow(image)\n",
    "img_corrected = exposure.equalize_adapthist(img, clip_limit=0.03)\n",
    "plt.imshow(img_corrected)"
   ]
  },
  {
   "cell_type": "code",
   "execution_count": null,
   "metadata": {},
   "outputs": [],
   "source": [
    "from mtcnn.mtcnn import MTCNN\n",
    "\n",
    "# Initialize the MTCNN model\n",
    "detector = MTCNN()\n",
    "\n",
    "# Load an image from the OASIS dataset\n",
    "image = cv2.imread('mri.jpg')\n",
    "\n",
    "# Detect faces in the image\n",
    "result = detector.detect_faces(image)\n",
    "\n",
    "# Get the coordinates of the eyes\n",
    "for face in result:\n",
    "    left_eye = face['keypoints']['left_eye']\n",
    "    right_eye = face['keypoints']['right_eye']\n",
    "\n",
    "# Create a mask for the eyes\n",
    "mask = np.zeros_like(image)\n",
    "cv2.rectangle(mask, (left_eye[0]-10, left_eye[1]-10), (right_eye[0]+10, right_eye[1]+10), (255,255,255), -1)\n",
    "\n",
    "# Apply the mask to the image\n",
    "masked_image = cv2.bitwise_and(image, mask)\n",
    "\n",
    "# Now you can preprocess the masked_image and use it in your Keras model\n"
   ]
  },
  {
   "cell_type": "code",
   "execution_count": null,
   "metadata": {},
   "outputs": [],
   "source": [
    "from skimage import exposure\n",
    "img = cv2.imread('mri.jpg', cv2.IMREAD_GRAYSCALE)\n",
    "img_corrected = exposure.equalize_adapthist(img, clip_limit=0.03)\n",
    "img_corrected"
   ]
  },
  {
   "cell_type": "code",
   "execution_count": null,
   "metadata": {},
   "outputs": [],
   "source": [
    "# Extract hair, resize, normalize train and test images\n",
    "preproc_images_data_train = inicial_preproc(images_data_train)\n",
    "preproc_images_data_test = inicial_preproc(images_data_test)"
   ]
  },
  {
   "cell_type": "code",
   "execution_count": null,
   "metadata": {},
   "outputs": [],
   "source": [
    "img = cv2.imread('mri.jpg', cv2.IMREAD_GRAYSCALE)\n",
    "img"
   ]
  },
  {
   "cell_type": "markdown",
   "metadata": {},
   "source": [
    "o que isto chaam-se super Resolution, e é basicamente um upscaling sem perder muita qualidade"
   ]
  },
  {
   "cell_type": "code",
   "execution_count": null,
   "metadata": {},
   "outputs": [],
   "source": [
    "images = images_data_train.copy()"
   ]
  },
  {
   "cell_type": "code",
   "execution_count": null,
   "metadata": {},
   "outputs": [],
   "source": [
    "preprocessed_images = []\n",
    "\n",
    "for img in images:\n",
    "\n",
    "    # Create an SR object\n",
    "    sr = dnn_superres.DnnSuperResImpl_create()\n",
    "\n",
    "    # Read the desired model\n",
    "    path = \"FSRCNN_x2.pb\"\n",
    "    sr.readModel(path)\n",
    "\n",
    "    # Set the desired model and scale to get correct pre- and post-processing\n",
    "    sr.setModel(\"fsrcnn\", 3)\n",
    "\n",
    "    # Upscale the image\n",
    "    result = sr.upsample(img)\n",
    "\n",
    "    # Save the image\n",
    "    preprocessed_images.append(result)\n",
    "\n",
    "    #cv2.imwrite(\"upscaled.png\", result)\n"
   ]
  },
  {
   "cell_type": "code",
   "execution_count": null,
   "metadata": {},
   "outputs": [],
   "source": []
  },
  {
   "cell_type": "code",
   "execution_count": null,
   "metadata": {},
   "outputs": [],
   "source": []
  }
 ],
 "metadata": {
  "kernelspec": {
   "display_name": "dl",
   "language": "python",
   "name": "python3"
  },
  "language_info": {
   "codemirror_mode": {
    "name": "ipython",
    "version": 3
   },
   "file_extension": ".py",
   "mimetype": "text/x-python",
   "name": "python",
   "nbconvert_exporter": "python",
   "pygments_lexer": "ipython3",
   "version": "3.9.18"
  }
 },
 "nbformat": 4,
 "nbformat_minor": 2
}
